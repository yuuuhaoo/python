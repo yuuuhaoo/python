{
  "nbformat": 4,
  "nbformat_minor": 0,
  "metadata": {
    "colab": {
      "name": "1.ipynb",
      "provenance": [],
      "collapsed_sections": []
    },
    "kernelspec": {
      "name": "python3",
      "display_name": "Python 3"
    },
    "language_info": {
      "name": "python"
    }
  },
  "cells": [
    {
      "cell_type": "code",
      "execution_count": null,
      "metadata": {
        "id": "w68medFv7ov7"
      },
      "outputs": [],
      "source": [
        "import os\n",
        "os.getcwd()\n"
      ]
    },
    {
      "cell_type": "code",
      "source": [
        "os.listdir(\".\") #列出目錄下所有的檔案"
      ],
      "metadata": {
        "id": "wco5qvr2995-"
      },
      "execution_count": null,
      "outputs": []
    },
    {
      "cell_type": "code",
      "source": [
        "os.makedirs(\"test\") #新增test目錄\n",
        "os.listdir(\".\")"
      ],
      "metadata": {
        "id": "AJhOgBYq-RR0"
      },
      "execution_count": null,
      "outputs": []
    },
    {
      "cell_type": "code",
      "source": [
        "os.rmdir(\"test\") #移除test目錄\n",
        "os.listdir(\".\")"
      ],
      "metadata": {
        "id": "FGiCdVPV-gei"
      },
      "execution_count": null,
      "outputs": []
    },
    {
      "cell_type": "code",
      "source": [
        "# 新增檔案\n",
        "a=open(\"a.tet\",\"w\")\n",
        "a.write(\"This is line1\")\n",
        "a.write(\"This is line2\\n\")\n",
        "a.write(\"This is line3\\n\")\n",
        "a.close()"
      ],
      "metadata": {
        "id": "VVzVXLKlCTa1"
      },
      "execution_count": null,
      "outputs": []
    },
    {
      "cell_type": "code",
      "source": [
        "os.path.isfile(\"a.txt\")"
      ],
      "metadata": {
        "id": "_3Mfv4PFGnkf"
      },
      "execution_count": null,
      "outputs": []
    },
    {
      "cell_type": "code",
      "source": [
        "a=open(\"a.text\",\"r\")\n",
        "print(a.readlines())\n",
        "a.close()"
      ],
      "metadata": {
        "id": "x0wbQzpxGnsk"
      },
      "execution_count": null,
      "outputs": []
    },
    {
      "cell_type": "code",
      "source": [
        "if os.path.isfile(\"a.txt\"):\n",
        "  a=open(\"a.txt\",\"r\")\n",
        "  print(a.readlines())\n",
        "  a.close()\n",
        "else:\n",
        "  print(\"檔案不存在\")"
      ],
      "metadata": {
        "colab": {
          "base_uri": "https://localhost:8080/"
        },
        "id": "al49bphOGny3",
        "outputId": "5871d045-bd83-4bea-bbc8-779a5178b592"
      },
      "execution_count": null,
      "outputs": [
        {
          "output_type": "stream",
          "name": "stdout",
          "text": [
            "檔案不存在\n"
          ]
        }
      ]
    },
    {
      "cell_type": "code",
      "source": [
        "a=open(\"a.txt\",\"a\") #參數\"a\"會把寫入資訊附加在檔案尾巴\n",
        "a.write(\"This is line4\\n\")\n",
        "a.close()"
      ],
      "metadata": {
        "id": "M7SOyLR6JGFX"
      },
      "execution_count": null,
      "outputs": []
    },
    {
      "cell_type": "code",
      "source": [
        "a=open(\"a.txt\",\"r\")\n",
        "print(a.readlines())\n",
        "a.close()"
      ],
      "metadata": {
        "colab": {
          "base_uri": "https://localhost:8080/"
        },
        "id": "JVzmg2IrJI0F",
        "outputId": "5457bebd-df3f-48df-8f79-ada4219ca4b1"
      },
      "execution_count": null,
      "outputs": [
        {
          "output_type": "stream",
          "name": "stdout",
          "text": [
            "['This is line4\\n', 'This is line4\\n']\n"
          ]
        }
      ]
    },
    {
      "cell_type": "code",
      "source": [
        "a=open(\"a.txt\",\"r+\")\n",
        "a.write(\"This is line5\\n\")\n",
        "a.close()"
      ],
      "metadata": {
        "id": "5NzOiAN9JJBP"
      },
      "execution_count": null,
      "outputs": []
    },
    {
      "cell_type": "code",
      "source": [
        "a=open(\"a.txt\",\"r\")\n",
        "print(a.readlines())\n",
        "a.close()"
      ],
      "metadata": {
        "colab": {
          "base_uri": "https://localhost:8080/"
        },
        "id": "_IiTDzs2JJNc",
        "outputId": "40c2c520-2a0a-4d5b-8c13-75994d5127ce"
      },
      "execution_count": null,
      "outputs": [
        {
          "output_type": "stream",
          "name": "stdout",
          "text": [
            "['This is line5\\n', 'This is line4\\n']\n"
          ]
        }
      ]
    }
  ]
}