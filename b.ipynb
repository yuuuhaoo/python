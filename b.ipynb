{
  "nbformat": 4,
  "nbformat_minor": 0,
  "metadata": {
    "colab": {
      "name": "Untitled0.ipynb",
      "provenance": [],
      "collapsed_sections": []
    },
    "kernelspec": {
      "name": "python3",
      "display_name": "Python 3"
    },
    "language_info": {
      "name": "python"
    }
  },
  "cells": [
    {
      "cell_type": "code",
      "execution_count": null,
      "metadata": {
        "id": "_WLNp7eJzIAk"
      },
      "outputs": [],
      "source": [
        "id=\"tony\"\n",
        "pwd=\"1234\"\n",
        "while True:\n",
        "  x=input(\"請輸入帳號 :\")\n",
        "  y=input(\"請輸入密碼 :\")\n",
        "  if (x==id and y==pwd):\n",
        "    print(\"歡迎登入!!\")\n",
        "    break\n",
        "  else:\n",
        "    print(\"帳號/密碼輸入錯誤\")\n"
      ]
    },
    {
      "cell_type": "code",
      "source": [
        "import random\n",
        "\n",
        "for i in range(10): #range(10): 0,1,2,3,4,5,6,7,8,9\n",
        "  prunt (random. randint(1,9))"
      ],
      "metadata": {
        "id": "pJvWYBXt2K6L"
      },
      "execution_count": null,
      "outputs": []
    },
    {
      "cell_type": "code",
      "source": [
        "import random\n",
        "number=random.randint(1,15)\n",
        "while True:\n",
        "  guess-int(input(\"請猜猜一個1-15的數字 :\"))\n",
        "  if (gueess==number):\n",
        "    print(\"猜對了!!\")\n",
        "    break\n",
        "  else :\n",
        "    print(\"猜錯了~~\")"
      ],
      "metadata": {
        "id": "pj44EqIf4UDr"
      },
      "execution_count": null,
      "outputs": []
    },
    {
      "cell_type": "code",
      "source": [
        "score=[90,80,70,88,96]\n",
        "print(score[0])\n",
        "print(score[1])\n",
        "print(score[4])\n",
        "print(score[-1])"
      ],
      "metadata": {
        "id": "NgfnAQ7C7VfR"
      },
      "execution_count": null,
      "outputs": []
    },
    {
      "cell_type": "code",
      "source": [
        "score=[90,80,70,88,96]\n",
        "print(score[0:3])\n",
        "print(score[:3])\n",
        "print(score[3:])\n",
        "print(score[-1])"
      ],
      "metadata": {
        "id": "UKNf4DKFCZEN"
      },
      "execution_count": null,
      "outputs": []
    },
    {
      "cell_type": "code",
      "source": [
        "my_list0=[]\n",
        "print(my_list0)\n",
        "my_list1=list()\n",
        "print(my_list1)\n",
        "my_list2=[\"pythone\",\"javascript\",\"c#\"]\n",
        "print(my_list2)\n",
        "print(my_list2[2])"
      ],
      "metadata": {
        "id": "xLC_bnrjGEIC",
        "colab": {
          "base_uri": "https://localhost:8080/"
        },
        "outputId": "e8603e04-d9ab-43d0-fade-c77f463c67d2"
      },
      "execution_count": null,
      "outputs": [
        {
          "output_type": "stream",
          "name": "stdout",
          "text": [
            "[]\n",
            "[]\n",
            "['pythone', 'javascript', 'c#']\n",
            "c#\n"
          ]
        }
      ]
    },
    {
      "cell_type": "code",
      "source": [
        "my_list2=[\"pythone\",\"javascript\",\"c#\"]\n",
        "print(len(my_list2))\n",
        "my_list2.append(\"java\")\n",
        "print(my_list2)\n",
        "my_list2.remove(\"java\")\n",
        "print(my_list2)\n",
        "my_list2.insert(1,\"java\")\n",
        "print(my_list2)"
      ],
      "metadata": {
        "colab": {
          "base_uri": "https://localhost:8080/"
        },
        "id": "yQWXn_yP_T8J",
        "outputId": "563e9cc3-e196-4ddf-f84b-d586b2073aca"
      },
      "execution_count": null,
      "outputs": [
        {
          "output_type": "stream",
          "name": "stdout",
          "text": [
            "3\n",
            "['pythone', 'javascript', 'c#', 'java']\n",
            "['pythone', 'javascript', 'c#']\n",
            "['pythone', 'java', 'javascript', 'c#']\n"
          ]
        }
      ]
    },
    {
      "cell_type": "code",
      "source": [
        "a=[1,2,3]\n",
        "b=[4,5,6]\n",
        "c=a+b\n",
        "print\n",
        "\n"
      ],
      "metadata": {
        "id": "bsdujqlgDpVf"
      },
      "execution_count": null,
      "outputs": []
    },
    {
      "cell_type": "markdown",
      "source": [
        "函式"
      ],
      "metadata": {
        "id": "khZsuffO7VEq"
      }
    },
    {
      "cell_type": "code",
      "source": [
        "import math\n",
        "radius=eval(input(\"請輸入員的半徑：\"))\n",
        "area=radius * radius * math.pi\n",
        "print(\"圓的面積為：\",area)"
      ],
      "metadata": {
        "colab": {
          "base_uri": "https://localhost:8080/"
        },
        "id": "Il7Nl5go7fec",
        "outputId": "b0d5a7bf-2cec-447b-8f59-0b711f2c7dfe"
      },
      "execution_count": null,
      "outputs": [
        {
          "output_type": "stream",
          "name": "stdout",
          "text": [
            "請輸入員的半徑：5\n",
            "圓的面積為： 78.53981633974483\n"
          ]
        }
      ]
    },
    {
      "cell_type": "code",
      "source": [
        "import math\n",
        "def circle_area(radius):\n",
        "  area=radius * radius * math.pi\n",
        "  return area\n",
        "  print(circle_area(10))\n",
        "  print(circle_area(5))"
      ],
      "metadata": {
        "id": "0qIr5d5w-OPI"
      },
      "execution_count": null,
      "outputs": []
    },
    {
      "cell_type": "markdown",
      "source": [
        ""
      ],
      "metadata": {
        "id": "rwYCyngeJeOz"
      }
    },
    {
      "cell_type": "code",
      "source": [
        "try:\n",
        "  a=5\n",
        "  b=5\n",
        "  if a<b:\n",
        "    print(n)\n",
        "\n"
      ],
      "metadata": {
        "colab": {
          "base_uri": "https://localhost:8080/",
          "height": 132
        },
        "id": "4xkIIk__J5nG",
        "outputId": "9086a777-557f-4b74-8898-301a9a2de893"
      },
      "execution_count": null,
      "outputs": [
        {
          "output_type": "error",
          "ename": "SyntaxError",
          "evalue": "ignored",
          "traceback": [
            "\u001b[0;36m  File \u001b[0;32m\"<ipython-input-6-d90f98749a51>\"\u001b[0;36m, line \u001b[0;32m6\u001b[0m\n\u001b[0;31m    \u001b[0m\n\u001b[0m    ^\u001b[0m\n\u001b[0;31mSyntaxError\u001b[0m\u001b[0;31m:\u001b[0m unexpected EOF while parsing\n"
          ]
        }
      ]
    }
  ]
}