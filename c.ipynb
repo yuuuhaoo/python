{
  "nbformat": 4,
  "nbformat_minor": 0,
  "metadata": {
    "colab": {
      "name": "3.ipynb",
      "provenance": []
    },
    "kernelspec": {
      "name": "python3",
      "display_name": "Python 3"
    },
    "language_info": {
      "name": "python"
    }
  },
  "cells": [
    {
      "cell_type": "code",
      "execution_count": null,
      "metadata": {
        "colab": {
          "base_uri": "https://localhost:8080/"
        },
        "id": "mppR_R4NGtwl",
        "outputId": "98e5e25f-1beb-4f06-fcbc-45ec5923cf0b"
      },
      "outputs": [
        {
          "output_type": "stream",
          "name": "stdout",
          "text": [
            "('python', 'js', 'SQL')\n",
            "('go', 'c#', 'vb')\n",
            "go\n"
          ]
        }
      ],
      "source": [
        "a_tuple=('python', 'js', 'SQL')\n",
        "print(a_tuple)\n",
        "b_list=['go', 'c#', 'vb']\n",
        "b_tuple=tuple(b_list)\n",
        "print(b_tuple)\n",
        "print(b_tuple[1])"
      ]
    },
    {
      "cell_type": "code",
      "source": [
        "a_dict={0:'go',1:'c#',2:'vb'}\n",
        "print(a_dict)\n",
        "print(a_dict[0])\n",
        "b_dict={'name':'tony','sex':'Male','sid':'B09090022'}\n",
        "print(b_dict['sid'])\n"
      ],
      "metadata": {
        "colab": {
          "base_uri": "https://localhost:8080/"
        },
        "id": "nbiBOZkrKb89",
        "outputId": "2fdce80b-a6bd-43e6-c6b7-e863ead62822"
      },
      "execution_count": null,
      "outputs": [
        {
          "output_type": "stream",
          "name": "stdout",
          "text": [
            "{0: 'go', 1: 'c#', 2: 'vb'}\n",
            "go\n",
            "B09090022\n"
          ]
        }
      ]
    }
  ]
}